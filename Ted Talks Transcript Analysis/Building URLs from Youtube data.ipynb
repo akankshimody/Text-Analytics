{
 "cells": [
  {
   "cell_type": "code",
   "execution_count": 1,
   "metadata": {
    "colab": {},
    "colab_type": "code",
    "id": "KwIJ74YG6tu0"
   },
   "outputs": [],
   "source": [
    "import pandas as pd\n",
    "df = pd.read_csv('Popular_Videos_Titles.csv')\n",
    "df.rename(columns = {'Field1':'All','Field2_Text':'title','Field3':'number_views'}, inplace = True) "
   ]
  },
  {
   "cell_type": "code",
   "execution_count": 2,
   "metadata": {
    "colab": {
     "base_uri": "https://localhost:8080/",
     "height": 206
    },
    "colab_type": "code",
    "executionInfo": {
     "elapsed": 400,
     "status": "ok",
     "timestamp": 1575076669816,
     "user": {
      "displayName": "Akankshi Manish Mody",
      "photoUrl": "https://lh3.googleusercontent.com/a-/AAuE7mAXImw3zIgrSaeC8ifQOPnkJJKUR-2LJS2fiAov=s64",
      "userId": "09981411116305312941"
     },
     "user_tz": 300
    },
    "id": "QpDZ0hTn6_P4",
    "outputId": "19a26b33-52e0-4fc4-d4cb-af570c33eb66"
   },
   "outputs": [
    {
     "data": {
      "text/html": [
       "<div>\n",
       "<style scoped>\n",
       "    .dataframe tbody tr th:only-of-type {\n",
       "        vertical-align: middle;\n",
       "    }\n",
       "\n",
       "    .dataframe tbody tr th {\n",
       "        vertical-align: top;\n",
       "    }\n",
       "\n",
       "    .dataframe thead th {\n",
       "        text-align: right;\n",
       "    }\n",
       "</style>\n",
       "<table border=\"1\" class=\"dataframe\">\n",
       "  <thead>\n",
       "    <tr style=\"text-align: right;\">\n",
       "      <th></th>\n",
       "      <th>All</th>\n",
       "      <th>title</th>\n",
       "      <th>number_views</th>\n",
       "    </tr>\n",
       "  </thead>\n",
       "  <tbody>\n",
       "    <tr>\n",
       "      <td>0</td>\n",
       "      <td>This is what happens when you reply to spam em...</td>\n",
       "      <td>This is what happens when you reply to spam em...</td>\n",
       "      <td>45M views</td>\n",
       "    </tr>\n",
       "    <tr>\n",
       "      <td>1</td>\n",
       "      <td>Inside the mind of a master procrastinator | T...</td>\n",
       "      <td>Inside the mind of a master procrastinator | T...</td>\n",
       "      <td>24M views</td>\n",
       "    </tr>\n",
       "    <tr>\n",
       "      <td>2</td>\n",
       "      <td>How to speak so that people want to listen | J...</td>\n",
       "      <td>How to speak so that people want to listen | J...</td>\n",
       "      <td>24M views</td>\n",
       "    </tr>\n",
       "    <tr>\n",
       "      <td>3</td>\n",
       "      <td>The orchestra in my mouth | Tom Thum          ...</td>\n",
       "      <td>The orchestra in my mouth | Tom Thum</td>\n",
       "      <td>23M views</td>\n",
       "    </tr>\n",
       "    <tr>\n",
       "      <td>4</td>\n",
       "      <td>Looks aren't everything. Believe me, I'm a mod...</td>\n",
       "      <td>Looks aren't everything. Believe me, I'm a mod...</td>\n",
       "      <td>22M views</td>\n",
       "    </tr>\n",
       "  </tbody>\n",
       "</table>\n",
       "</div>"
      ],
      "text/plain": [
       "                                                 All  \\\n",
       "0  This is what happens when you reply to spam em...   \n",
       "1  Inside the mind of a master procrastinator | T...   \n",
       "2  How to speak so that people want to listen | J...   \n",
       "3  The orchestra in my mouth | Tom Thum          ...   \n",
       "4  Looks aren't everything. Believe me, I'm a mod...   \n",
       "\n",
       "                                               title number_views  \n",
       "0  This is what happens when you reply to spam em...    45M views  \n",
       "1  Inside the mind of a master procrastinator | T...    24M views  \n",
       "2  How to speak so that people want to listen | J...    24M views  \n",
       "3               The orchestra in my mouth | Tom Thum    23M views  \n",
       "4  Looks aren't everything. Believe me, I'm a mod...    22M views  "
      ]
     },
     "execution_count": 2,
     "metadata": {},
     "output_type": "execute_result"
    }
   ],
   "source": [
    "df.head()"
   ]
  },
  {
   "cell_type": "code",
   "execution_count": 3,
   "metadata": {
    "colab": {},
    "colab_type": "code",
    "id": "Rqnm0DSt9qq3"
   },
   "outputs": [],
   "source": [
    "df[\"title\"]= df[\"title\"].str.split(\"|\") "
   ]
  },
  {
   "cell_type": "code",
   "execution_count": 4,
   "metadata": {
    "colab": {},
    "colab_type": "code",
    "id": "ah1ygUZr-Lao"
   },
   "outputs": [],
   "source": [
    "df['url'] = ''\n",
    "df['speech_title'] =''\n",
    "df['speaker_name']=''"
   ]
  },
  {
   "cell_type": "code",
   "execution_count": 5,
   "metadata": {
    "colab": {
     "base_uri": "https://localhost:8080/",
     "height": 121
    },
    "colab_type": "code",
    "executionInfo": {
     "elapsed": 320,
     "status": "ok",
     "timestamp": 1575076709433,
     "user": {
      "displayName": "Akankshi Manish Mody",
      "photoUrl": "https://lh3.googleusercontent.com/a-/AAuE7mAXImw3zIgrSaeC8ifQOPnkJJKUR-2LJS2fiAov=s64",
      "userId": "09981411116305312941"
     },
     "user_tz": 300
    },
    "id": "9Clu7lpf9nOO",
    "outputId": "5c8459f0-684c-45b4-e840-ae9a84d1dcad"
   },
   "outputs": [
    {
     "name": "stdout",
     "output_type": "stream",
     "text": [
      "28\n",
      "149\n",
      "158\n",
      "181\n",
      "188\n",
      "189\n"
     ]
    }
   ],
   "source": [
    "for i in range(200):\n",
    "  try:\n",
    "    df['speech_title'][i] = df['title'][i][0].rstrip(' ')\n",
    "    df['speaker_name'][i] = df['title'][i][1].lstrip(' ')\n",
    "    list1 = ['_'.join(df['title'][i][1].lstrip(' ').split(' ')),'_'.join(df['title'][i][0].rstrip(' ').split(' '))]\n",
    "    url = 'https://www.ted.com/talks/' + '_'.join(list1) + '/transcript'\n",
    "    df['url'][i] = url\n",
    "  except:\n",
    "    df.drop([i])\n",
    "    print(i)"
   ]
  },
  {
   "cell_type": "code",
   "execution_count": 6,
   "metadata": {
    "colab": {
     "base_uri": "https://localhost:8080/",
     "height": 225
    },
    "colab_type": "code",
    "executionInfo": {
     "elapsed": 338,
     "status": "ok",
     "timestamp": 1575076712403,
     "user": {
      "displayName": "Akankshi Manish Mody",
      "photoUrl": "https://lh3.googleusercontent.com/a-/AAuE7mAXImw3zIgrSaeC8ifQOPnkJJKUR-2LJS2fiAov=s64",
      "userId": "09981411116305312941"
     },
     "user_tz": 300
    },
    "id": "bqAZItZtnYAJ",
    "outputId": "4692bb79-adb6-4283-c8dc-e3ab1bb086dd"
   },
   "outputs": [
    {
     "data": {
      "text/plain": [
       "0      https://www.ted.com/talks/James_Veitch_This_is...\n",
       "1      https://www.ted.com/talks/Tim_Urban_Inside_the...\n",
       "2      https://www.ted.com/talks/Julian_Treasure_How_...\n",
       "3      https://www.ted.com/talks/Tom_Thum_The_orchest...\n",
       "4      https://www.ted.com/talks/Cameron_Russell_Look...\n",
       "                             ...                        \n",
       "195    https://www.ted.com/talks/Johnny_Lee_Wii_remot...\n",
       "196    https://www.ted.com/talks/Jamie_Oliver_Teach_e...\n",
       "197    https://www.ted.com/talks/Lisa_Bu_How_books_ca...\n",
       "198    https://www.ted.com/talks/Alexander_Betts_Why_...\n",
       "199    https://www.ted.com/talks/Richard_Dawkins_Why_...\n",
       "Name: url, Length: 200, dtype: object"
      ]
     },
     "execution_count": 6,
     "metadata": {},
     "output_type": "execute_result"
    }
   ],
   "source": [
    "df['url']"
   ]
  },
  {
   "cell_type": "code",
   "execution_count": 7,
   "metadata": {
    "colab": {
     "base_uri": "https://localhost:8080/",
     "height": 71
    },
    "colab_type": "code",
    "executionInfo": {
     "elapsed": 327,
     "status": "ok",
     "timestamp": 1575076714282,
     "user": {
      "displayName": "Akankshi Manish Mody",
      "photoUrl": "https://lh3.googleusercontent.com/a-/AAuE7mAXImw3zIgrSaeC8ifQOPnkJJKUR-2LJS2fiAov=s64",
      "userId": "09981411116305312941"
     },
     "user_tz": 300
    },
    "id": "zptzrU0VoIOa",
    "outputId": "3377d683-24c2-4ac9-a821-e77e9818d29b"
   },
   "outputs": [
    {
     "name": "stderr",
     "output_type": "stream",
     "text": [
      "C:\\ProgramData\\Anaconda3\\lib\\site-packages\\ipykernel_launcher.py:3: FutureWarning: The signature of `Series.to_csv` was aligned to that of `DataFrame.to_csv`, and argument 'header' will change its default value from False to True: please pass an explicit value to suppress this warning.\n",
      "  This is separate from the ipykernel package so we can avoid doing imports until\n"
     ]
    }
   ],
   "source": [
    "import numpy as np\n",
    "df['url'].replace('', np.nan, inplace=True)\n",
    "df['url'].dropna().to_csv('final urls.csv',index=False)"
   ]
  }
 ],
 "metadata": {
  "colab": {
   "name": "Building URLs for TED.ipynb",
   "provenance": []
  },
  "kernelspec": {
   "display_name": "Python 3",
   "language": "python",
   "name": "python3"
  },
  "language_info": {
   "codemirror_mode": {
    "name": "ipython",
    "version": 3
   },
   "file_extension": ".py",
   "mimetype": "text/x-python",
   "name": "python",
   "nbconvert_exporter": "python",
   "pygments_lexer": "ipython3",
   "version": "3.7.4"
  }
 },
 "nbformat": 4,
 "nbformat_minor": 1
}
