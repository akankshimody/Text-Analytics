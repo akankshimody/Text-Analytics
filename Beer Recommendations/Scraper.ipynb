{
 "cells": [
  {
   "cell_type": "code",
   "execution_count": 9,
   "metadata": {
    "colab": {},
    "colab_type": "code",
    "id": "nWfM5WNuqa9J"
   },
   "outputs": [],
   "source": [
    "import requests\n",
    "from bs4 import BeautifulSoup\n",
    "from lxml import html\n",
    "import pandas as pd"
   ]
  },
  {
   "cell_type": "code",
   "execution_count": 10,
   "metadata": {
    "colab": {},
    "colab_type": "code",
    "id": "7-4VZ_x4qa9P"
   },
   "outputs": [],
   "source": [
    "\n",
    "def get_product_links():\n",
    "    df = pd.DataFrame(columns=['product_name', 'product_review', 'user_rating'])\n",
    "    \n",
    "    base_url = 'https://www.beeradvocate.com'\n",
    "    \n",
    "    page = requests.get(base_url+'/beer/top-rated/')\n",
    "    soup = BeautifulSoup(page.text,'html.parser')\n",
    "    \n",
    "    cells = soup.find_all('td')\n",
    "    for cell in cells:\n",
    "        if len(cell) == 2:            \n",
    "            product = cell.find('b').text\n",
    "            external_url = cell.find('a')['href']\n",
    "            \n",
    "            product_page = requests.get(base_url+external_url)\n",
    "            tree = html.fromstring(product_page.content)\n",
    "            for i in range(1,26):\n",
    "                try:\n",
    "                    rating = tree.xpath('/html/body/div[2]/div/div[2]/div[2]/div[2]/div/div/div[3]/div/div/div[2]/div[8]/div/div[{}]/div[2]/span[1]/text()'.format(i))[0]\n",
    "                    comments = tree.xpath('/html/body/div[2]/div/div[2]/div[2]/div[2]/div/div/div[3]/div/div/div[2]/div[8]/div/div[{}]/div[2]/text()'.format(i))[1:-1]\n",
    "                    comment = \"\"\n",
    "                    for com in comments:\n",
    "                        comment += com.strip('\\n') + \" \"\n",
    "\n",
    "                    df = df.append({'product_name': product,\n",
    "                                    'product_review': comment, \n",
    "                                    'user_rating': rating}, \n",
    "                                    ignore_index=True)\n",
    "                except:\n",
    "                    pass\n",
    "\n",
    "    return df \n",
    "\n",
    "df = get_product_links()"
   ]
  },
  {
   "cell_type": "code",
   "execution_count": 11,
   "metadata": {
    "colab": {},
    "colab_type": "code",
    "id": "pVtYVpmbqa9S"
   },
   "outputs": [],
   "source": [
    "df.to_csv('reviews.csv',index=False)"
   ]
  }
 ],
 "metadata": {
  "kernelspec": {
   "display_name": "Python 3",
   "language": "python",
   "name": "python3"
  },
  "language_info": {
   "codemirror_mode": {
    "name": "ipython",
    "version": 3
   },
   "file_extension": ".py",
   "mimetype": "text/x-python",
   "name": "python",
   "nbconvert_exporter": "python",
   "pygments_lexer": "ipython3",
   "version": "3.7.4"
  }
 },
 "nbformat": 4,
 "nbformat_minor": 2
}
