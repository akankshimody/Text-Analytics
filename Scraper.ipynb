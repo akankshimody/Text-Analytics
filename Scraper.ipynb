{
 "cells": [
  {
   "cell_type": "code",
   "execution_count": null,
   "metadata": {},
   "outputs": [],
   "source": [
    "!pip install selenium"
   ]
  },
  {
   "cell_type": "code",
   "execution_count": 5,
   "metadata": {},
   "outputs": [],
   "source": [
    "from selenium import webdriver\n",
    "import pandas as pd\n",
    "driver = webdriver.Chrome('C:/Windows/chromedriver_win32/chromedriver.exe')"
   ]
  },
  {
   "cell_type": "code",
   "execution_count": 6,
   "metadata": {},
   "outputs": [],
   "source": [
    "df = pd.DataFrame(columns=['username', 'date', 'comments'])\n",
    "for j in range(250):\n",
    "  driver.get('https://forums.edmunds.com/discussion/2864/general/x/entry-level-luxury-performance-sedans/p'+str(j+1))\n",
    "  for i in range(20):\n",
    "    df.loc[i+j*20, 'username'] = driver.find_elements_by_xpath('/html/body/div[1]/main/div/div[3]/div[5]/div[1]/ul/li['+ str(i+1) +']/div/div[2]/div[1]/span[1]/a[2]')[0].text\n",
    "    df.loc[i+j*20, 'date'] = driver.find_elements_by_xpath('/html/body/div[1]/main/div/div[3]/div[5]/div[1]/ul/li['+ str(i+1) +']/div/div[2]/div[2]/span/a/time')[0].text\n",
    "    df.loc[i+j*20, 'comments'] = driver.find_elements_by_xpath('/html/body/div[1]/main/div/div[3]/div[5]/div[1]/ul/li['+ str(i+1) +']/div/div[3]/div/div[1]')[0].text"
   ]
  },
  {
   "cell_type": "code",
   "execution_count": 8,
   "metadata": {},
   "outputs": [],
   "source": [
    "#Convert to csv file\n",
    "import copy\n",
    "comments_clean = copy.deepcopy(df)\n",
    "comments_clean['comments'] = comments_clean['comments'].apply(lambda x :x.replace(\"\\n\",\" \"))\n",
    "comments_clean.to_csv('comments.csv', header=True, sep=',')"
   ]
  }
 ],
 "metadata": {
  "kernelspec": {
   "display_name": "Python 3",
   "language": "python",
   "name": "python3"
  },
  "language_info": {
   "codemirror_mode": {
    "name": "ipython",
    "version": 3
   },
   "file_extension": ".py",
   "mimetype": "text/x-python",
   "name": "python",
   "nbconvert_exporter": "python",
   "pygments_lexer": "ipython3",
   "version": "3.7.4"
  }
 },
 "nbformat": 4,
 "nbformat_minor": 2
}
