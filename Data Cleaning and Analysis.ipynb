{
 "cells": [
  {
   "cell_type": "code",
   "execution_count": 1,
   "metadata": {},
   "outputs": [],
   "source": [
    "#Remove punctuation and convert to lower case\n",
    "import string\n",
    "import nltk\n",
    "import pandas as pd\n",
    "comments_clean = pd.read_csv(\"comments.csv\")\n",
    "comments_clean['comments']=comments_clean['comments'].astype(str)\n",
    "comments_clean = comments_clean.dropna()\n",
    "comments_clean = comments_clean.drop(columns = 'Unnamed: 0')\n",
    "comments_clean = comments_clean.reset_index().drop(columns='index')\n",
    "comments_clean['comments'] = comments_clean['comments'].apply(lambda x :x.translate(str.maketrans('', '', string.punctuation)))\n",
    "comments_clean['comments'] = comments_clean['comments'].apply(lambda x :x.lower())"
   ]
  },
  {
   "cell_type": "code",
   "execution_count": 2,
   "metadata": {},
   "outputs": [],
   "source": [
    "#Import models to brand conversion file \n",
    "models = pd.read_csv(\"models.csv\", header = None, names = ['brand','model'], encoding='windows-1252')"
   ]
  },
  {
   "cell_type": "code",
   "execution_count": 3,
   "metadata": {},
   "outputs": [],
   "source": [
    "#Replace models by brands\n",
    "def model_to_brand(s):\n",
    "    for i in models.index.values:\n",
    "        s = s.replace(models[\"model\"][i].lower(),models[\"brand\"][i].lower())\n",
    "    return s\n",
    "comments_clean['comments_model_replace'] = comments_clean['comments'].apply(model_to_brand)"
   ]
  },
  {
   "cell_type": "code",
   "execution_count": 4,
   "metadata": {},
   "outputs": [],
   "source": [
    "#Tokenize and remove stop words\n",
    "from nltk.corpus import stopwords \n",
    "from nltk.tokenize import word_tokenize \n",
    "  \n",
    "stop_words = set(stopwords.words('english')) \n",
    "comments_clean['comments_model_replace'] = comments_clean['comments_model_replace'].apply(word_tokenize).apply(set).apply(list)\n",
    "\n",
    "def remove_stopwords(s):\n",
    "    return [w for w in s if not w in stop_words] \n",
    "    \n",
    "comments_clean['comments_model_replace'] =  comments_clean['comments_model_replace'].apply(remove_stopwords)\n"
   ]
  },
  {
   "cell_type": "code",
   "execution_count": 5,
   "metadata": {},
   "outputs": [],
   "source": [
    "#Creating a combined list of all words\n",
    "all_words = []\n",
    "for i in range(len(comments_clean)):\n",
    "    all_words+=comments_clean['comments_model_replace'][i]\n",
    "from nltk import FreqDist\n",
    "word_freq = nltk.FreqDist(all_words)"
   ]
  },
  {
   "cell_type": "code",
   "execution_count": 6,
   "metadata": {},
   "outputs": [],
   "source": [
    "#Creating a list of all brand names\n",
    "model_names = models['brand'].unique()"
   ]
  },
  {
   "cell_type": "code",
   "execution_count": 7,
   "metadata": {},
   "outputs": [],
   "source": [
    "#Filtering counts for brands\n",
    "brand_counts = []\n",
    "for key,item in word_freq.most_common(1000):\n",
    "    if key in model_names:\n",
    "        temp = (key,item)\n",
    "        brand_counts.append(temp)\n",
    "        "
   ]
  },
  {
   "cell_type": "code",
   "execution_count": 8,
   "metadata": {},
   "outputs": [
    {
     "data": {
      "text/plain": [
       "[('bmw', 1401),\n",
       " ('acura', 529),\n",
       " ('audi', 439),\n",
       " ('infiniti', 415),\n",
       " ('honda', 403),\n",
       " ('toyata', 209),\n",
       " ('nissan', 191),\n",
       " ('volvo', 174),\n",
       " ('ford', 143),\n",
       " ('mercedes', 143)]"
      ]
     },
     "execution_count": 8,
     "metadata": {},
     "output_type": "execute_result"
    }
   ],
   "source": [
    "#Top 10 brands\n",
    "brand_counts[:10]"
   ]
  },
  {
   "cell_type": "markdown",
   "metadata": {},
   "source": [
    "#### Task A: Identify top 10 brands by frequency. From the posts, calculate lift ratios for associations between the brands. Show the brands on a multi-dimensional scaling (MDS) map."
   ]
  },
  {
   "cell_type": "code",
   "execution_count": 9,
   "metadata": {},
   "outputs": [
    {
     "data": {
      "text/plain": [
       "['bmw',\n",
       " 'acura',\n",
       " 'audi',\n",
       " 'infiniti',\n",
       " 'honda',\n",
       " 'toyata',\n",
       " 'nissan',\n",
       " 'volvo',\n",
       " 'ford',\n",
       " 'mercedes']"
      ]
     },
     "execution_count": 9,
     "metadata": {},
     "output_type": "execute_result"
    }
   ],
   "source": [
    "top10_brand = [x[0] for x in brand_counts[:10]]\n",
    "top10_brand"
   ]
  },
  {
   "cell_type": "code",
   "execution_count": 10,
   "metadata": {
    "scrolled": true
   },
   "outputs": [],
   "source": [
    "# drop duplicates\n",
    "post = comments_clean[\"comments_model_replace\"].map(lambda x:list(set(x)))"
   ]
  },
  {
   "cell_type": "code",
   "execution_count": 11,
   "metadata": {},
   "outputs": [],
   "source": [
    "word_cnt = []\n",
    "for i in range(len(post)):\n",
    "    word_cnt += post[i]\n",
    "word_frq = nltk.FreqDist(word_cnt)"
   ]
  },
  {
   "cell_type": "code",
   "execution_count": 36,
   "metadata": {
    "scrolled": true
   },
   "outputs": [],
   "source": [
    "# Constructing a Lift table\n",
    "brand_lift = pd.DataFrame(columns=[\"brand1\",\"brand2\",\"lift\"])\n",
    "for i in top10_brand:\n",
    "    for j in top10_brand:\n",
    "        if i != j:\n",
    "            brand_lift = brand_lift.append({\"brand1\":i, \"brand2\":j, \"lift\":0}, ignore_index=True)"
   ]
  },
  {
   "cell_type": "code",
   "execution_count": 13,
   "metadata": {},
   "outputs": [],
   "source": [
    "def word_count2(comp1, comp2, df):\n",
    "    \"\"\"Calculating number of posts mentioning both A and B\"\"\"\n",
    "    n = 0\n",
    "    for i in range(len(df)):\n",
    "        if (comp1 in df[i]) & (comp2 in df[i]):\n",
    "            n += 1\n",
    "    return n\n",
    "# total number of posts\n",
    "n = len(post)"
   ]
  },
  {
   "cell_type": "code",
   "execution_count": 14,
   "metadata": {
    "scrolled": true
   },
   "outputs": [],
   "source": [
    "# calculate lift\n",
    "for i in range(len(brand_lift)):\n",
    "    cnt_both = word_count2(brand_lift['brand1'][i],brand_lift['brand2'][i],post)\n",
    "    cnt_brand1 = word_frq[brand_lift['brand1'][i]]\n",
    "    cnt_brand2 = word_frq[brand_lift['brand2'][i]]\n",
    "    brand_lift['lift'].iloc[i] = cnt_both*n/(cnt_brand1 * cnt_brand2)"
   ]
  },
  {
   "cell_type": "code",
   "execution_count": 15,
   "metadata": {
    "scrolled": true
   },
   "outputs": [
    {
     "data": {
      "text/html": [
       "<div>\n",
       "<style scoped>\n",
       "    .dataframe tbody tr th:only-of-type {\n",
       "        vertical-align: middle;\n",
       "    }\n",
       "\n",
       "    .dataframe tbody tr th {\n",
       "        vertical-align: top;\n",
       "    }\n",
       "\n",
       "    .dataframe thead th {\n",
       "        text-align: right;\n",
       "    }\n",
       "</style>\n",
       "<table border=\"1\" class=\"dataframe\">\n",
       "  <thead>\n",
       "    <tr style=\"text-align: right;\">\n",
       "      <th>brand2</th>\n",
       "      <th>acura</th>\n",
       "      <th>audi</th>\n",
       "      <th>bmw</th>\n",
       "      <th>ford</th>\n",
       "      <th>honda</th>\n",
       "      <th>infiniti</th>\n",
       "      <th>mercedes</th>\n",
       "      <th>nissan</th>\n",
       "      <th>toyata</th>\n",
       "      <th>volvo</th>\n",
       "    </tr>\n",
       "    <tr>\n",
       "      <th>brand1</th>\n",
       "      <th></th>\n",
       "      <th></th>\n",
       "      <th></th>\n",
       "      <th></th>\n",
       "      <th></th>\n",
       "      <th></th>\n",
       "      <th></th>\n",
       "      <th></th>\n",
       "      <th></th>\n",
       "      <th></th>\n",
       "    </tr>\n",
       "  </thead>\n",
       "  <tbody>\n",
       "    <tr>\n",
       "      <th>acura</th>\n",
       "      <td>NaN</td>\n",
       "      <td>2.36781</td>\n",
       "      <td>1.37701</td>\n",
       "      <td>1.47845</td>\n",
       "      <td>3.08208</td>\n",
       "      <td>2.99296</td>\n",
       "      <td>2.27927</td>\n",
       "      <td>2.12156</td>\n",
       "      <td>1.85454</td>\n",
       "      <td>2.43009</td>\n",
       "    </tr>\n",
       "    <tr>\n",
       "      <th>audi</th>\n",
       "      <td>2.36781</td>\n",
       "      <td>NaN</td>\n",
       "      <td>1.65173</td>\n",
       "      <td>1.78154</td>\n",
       "      <td>1.36968</td>\n",
       "      <td>2.2509</td>\n",
       "      <td>3.19193</td>\n",
       "      <td>1.44498</td>\n",
       "      <td>1.77764</td>\n",
       "      <td>4.33142</td>\n",
       "    </tr>\n",
       "    <tr>\n",
       "      <th>bmw</th>\n",
       "      <td>1.37701</td>\n",
       "      <td>1.65173</td>\n",
       "      <td>NaN</td>\n",
       "      <td>1.41887</td>\n",
       "      <td>1.05646</td>\n",
       "      <td>1.69115</td>\n",
       "      <td>2.00037</td>\n",
       "      <td>1.07971</td>\n",
       "      <td>1.46416</td>\n",
       "      <td>1.29989</td>\n",
       "    </tr>\n",
       "    <tr>\n",
       "      <th>ford</th>\n",
       "      <td>1.47845</td>\n",
       "      <td>1.78154</td>\n",
       "      <td>1.41887</td>\n",
       "      <td>NaN</td>\n",
       "      <td>2.18328</td>\n",
       "      <td>1.41343</td>\n",
       "      <td>4.10191</td>\n",
       "      <td>2.21799</td>\n",
       "      <td>2.18289</td>\n",
       "      <td>3.74568</td>\n",
       "    </tr>\n",
       "    <tr>\n",
       "      <th>honda</th>\n",
       "      <td>3.08208</td>\n",
       "      <td>1.36968</td>\n",
       "      <td>1.05646</td>\n",
       "      <td>2.18328</td>\n",
       "      <td>NaN</td>\n",
       "      <td>1.56035</td>\n",
       "      <td>2.02155</td>\n",
       "      <td>3.32974</td>\n",
       "      <td>2.98764</td>\n",
       "      <td>2.06012</td>\n",
       "    </tr>\n",
       "    <tr>\n",
       "      <th>infiniti</th>\n",
       "      <td>2.99296</td>\n",
       "      <td>2.2509</td>\n",
       "      <td>1.69115</td>\n",
       "      <td>1.41343</td>\n",
       "      <td>1.56035</td>\n",
       "      <td>NaN</td>\n",
       "      <td>2.35572</td>\n",
       "      <td>2.35161</td>\n",
       "      <td>1.82671</td>\n",
       "      <td>1.80695</td>\n",
       "    </tr>\n",
       "    <tr>\n",
       "      <th>mercedes</th>\n",
       "      <td>2.27927</td>\n",
       "      <td>3.19193</td>\n",
       "      <td>2.00037</td>\n",
       "      <td>4.10191</td>\n",
       "      <td>2.02155</td>\n",
       "      <td>2.35572</td>\n",
       "      <td>NaN</td>\n",
       "      <td>1.87676</td>\n",
       "      <td>2.96249</td>\n",
       "      <td>5.43124</td>\n",
       "    </tr>\n",
       "    <tr>\n",
       "      <th>nissan</th>\n",
       "      <td>2.12156</td>\n",
       "      <td>1.44498</td>\n",
       "      <td>1.07971</td>\n",
       "      <td>2.21799</td>\n",
       "      <td>3.32974</td>\n",
       "      <td>2.35161</td>\n",
       "      <td>1.87676</td>\n",
       "      <td>NaN</td>\n",
       "      <td>2.21799</td>\n",
       "      <td>2.24349</td>\n",
       "    </tr>\n",
       "    <tr>\n",
       "      <th>toyata</th>\n",
       "      <td>1.85454</td>\n",
       "      <td>1.77764</td>\n",
       "      <td>1.46416</td>\n",
       "      <td>2.18289</td>\n",
       "      <td>2.98764</td>\n",
       "      <td>1.82671</td>\n",
       "      <td>2.96249</td>\n",
       "      <td>2.21799</td>\n",
       "      <td>NaN</td>\n",
       "      <td>2.05027</td>\n",
       "    </tr>\n",
       "    <tr>\n",
       "      <th>volvo</th>\n",
       "      <td>2.43009</td>\n",
       "      <td>4.33142</td>\n",
       "      <td>1.29989</td>\n",
       "      <td>3.74568</td>\n",
       "      <td>2.06012</td>\n",
       "      <td>1.80695</td>\n",
       "      <td>5.43124</td>\n",
       "      <td>2.24349</td>\n",
       "      <td>2.05027</td>\n",
       "      <td>NaN</td>\n",
       "    </tr>\n",
       "  </tbody>\n",
       "</table>\n",
       "</div>"
      ],
      "text/plain": [
       "brand2      acura     audi      bmw     ford    honda infiniti mercedes  \\\n",
       "brand1                                                                    \n",
       "acura         NaN  2.36781  1.37701  1.47845  3.08208  2.99296  2.27927   \n",
       "audi      2.36781      NaN  1.65173  1.78154  1.36968   2.2509  3.19193   \n",
       "bmw       1.37701  1.65173      NaN  1.41887  1.05646  1.69115  2.00037   \n",
       "ford      1.47845  1.78154  1.41887      NaN  2.18328  1.41343  4.10191   \n",
       "honda     3.08208  1.36968  1.05646  2.18328      NaN  1.56035  2.02155   \n",
       "infiniti  2.99296   2.2509  1.69115  1.41343  1.56035      NaN  2.35572   \n",
       "mercedes  2.27927  3.19193  2.00037  4.10191  2.02155  2.35572      NaN   \n",
       "nissan    2.12156  1.44498  1.07971  2.21799  3.32974  2.35161  1.87676   \n",
       "toyata    1.85454  1.77764  1.46416  2.18289  2.98764  1.82671  2.96249   \n",
       "volvo     2.43009  4.33142  1.29989  3.74568  2.06012  1.80695  5.43124   \n",
       "\n",
       "brand2     nissan   toyata    volvo  \n",
       "brand1                               \n",
       "acura     2.12156  1.85454  2.43009  \n",
       "audi      1.44498  1.77764  4.33142  \n",
       "bmw       1.07971  1.46416  1.29989  \n",
       "ford      2.21799  2.18289  3.74568  \n",
       "honda     3.32974  2.98764  2.06012  \n",
       "infiniti  2.35161  1.82671  1.80695  \n",
       "mercedes  1.87676  2.96249  5.43124  \n",
       "nissan        NaN  2.21799  2.24349  \n",
       "toyata    2.21799      NaN  2.05027  \n",
       "volvo     2.24349  2.05027      NaN  "
      ]
     },
     "execution_count": 15,
     "metadata": {},
     "output_type": "execute_result"
    }
   ],
   "source": [
    "lift_mat = brand_lift.pivot(index='brand1',columns='brand2', values='lift')\n",
    "lift_mat"
   ]
  },
  {
   "cell_type": "code",
   "execution_count": 35,
   "metadata": {},
   "outputs": [],
   "source": [
    "lift_adj = 1/lift_mat\n",
    "lift_adj = lift_adj.fillna(0)"
   ]
  },
  {
   "cell_type": "code",
   "execution_count": 30,
   "metadata": {},
   "outputs": [],
   "source": [
    "# Multi-dimensional scaling Map\n",
    "from sklearn import manifold\n",
    "import numpy as np\n",
    "mds = manifold.MDS(n_components=2, dissimilarity='precomputed', random_state=1, max_iter=3000)\n",
    "result = mds.fit(lift_adj)\n",
    "pos = result.embedding_\n",
    "X = pos[:,0]\n",
    "Y = pos[:,1]"
   ]
  },
  {
   "cell_type": "code",
   "execution_count": 34,
   "metadata": {},
   "outputs": [
    {
     "data": {
      "image/png": "[encoded data removed]",
      "text/plain": [
       "<Figure size 432x288 with 1 Axes>"
      ]
     },
     "metadata": {
      "needs_background": "light"
     },
     "output_type": "display_data"
    }
   ],
   "source": [
    "import matplotlib.pyplot as plt\n",
    "plt.scatter(X,Y)\n",
    "for i, txt in enumerate(lift_adj.index):\n",
    "    plt.annotate(txt, (X[i], Y[i]))\n",
    "plt.show()"
   ]
  },
  {
   "cell_type": "markdown",
   "metadata": {},
   "source": [
    "#### Task B: What insights can you offer brand managers from your analysis in Task A? "
   ]
  },
  {
   "cell_type": "markdown",
   "metadata": {},
   "source": [
    "Mercedes and Volvo have the strongest association. This is an interesting relation because Mercedes is undisputably a luxury car brand, but Volvo is not. The data is from entry-level-luxury-performance-sedans forum, and it is easy to guess luxury brand such as Mercedes, Audi, and BMW will have a significant lift with each other. However, people tend to talk more about a luxury car brand with a rather normal brand.  This can be interpreted as people thinking about either buying a car with luxury brand or buying a car with reasonable price. Thus, luxury car brand managers should  not only consider other luxury brands but also qualified brands with reasonable price as competitors."
   ]
  },
  {
   "cell_type": "markdown",
   "metadata": {},
   "source": [
    "#### Task C: What are 5 most frequently mentioned attributes of cars in the discussions? Note that the same attribute may be described by different words – e.g., pick-up and acceleration may both refer to a more general attribute, “performance”. You have to make suitable replacements. Now pick the 5 most frequently mentioned brands. Which attributes are most strongly associated with which of these 5 brands? ####"
   ]
  },
  {
   "cell_type": "code",
   "execution_count": 1,
   "metadata": {},
   "outputs": [],
   "source": [
    "import pandas as pd\n",
    "import nltk\n",
    "from nltk.tokenize import sent_tokenize, word_tokenize\n",
    "\n",
    "df = pd.read_csv('comments.csv')"
   ]
  },
  {
   "cell_type": "code",
   "execution_count": 2,
   "metadata": {
    "scrolled": false
   },
   "outputs": [
    {
     "data": {
      "text/html": [
       "<div>\n",
       "<style scoped>\n",
       "    .dataframe tbody tr th:only-of-type {\n",
       "        vertical-align: middle;\n",
       "    }\n",
       "\n",
       "    .dataframe tbody tr th {\n",
       "        vertical-align: top;\n",
       "    }\n",
       "\n",
       "    .dataframe thead th {\n",
       "        text-align: right;\n",
       "    }\n",
       "</style>\n",
       "<table border=\"1\" class=\"dataframe\">\n",
       "  <thead>\n",
       "    <tr style=\"text-align: right;\">\n",
       "      <th></th>\n",
       "      <th>Unnamed: 0</th>\n",
       "      <th>username</th>\n",
       "      <th>date</th>\n",
       "      <th>comments</th>\n",
       "    </tr>\n",
       "  </thead>\n",
       "  <tbody>\n",
       "    <tr>\n",
       "      <th>0</th>\n",
       "      <td>0</td>\n",
       "      <td>merc1</td>\n",
       "      <td>March 2002</td>\n",
       "      <td>I personally think that with a few tweaks the ...</td>\n",
       "    </tr>\n",
       "    <tr>\n",
       "      <th>1</th>\n",
       "      <td>1</td>\n",
       "      <td>fredvh</td>\n",
       "      <td>March 2002</td>\n",
       "      <td>I am debating a new purchase and these two are...</td>\n",
       "    </tr>\n",
       "  </tbody>\n",
       "</table>\n",
       "</div>"
      ],
      "text/plain": [
       "   Unnamed: 0 username        date  \\\n",
       "0           0    merc1  March 2002   \n",
       "1           1   fredvh  March 2002   \n",
       "\n",
       "                                            comments  \n",
       "0  I personally think that with a few tweaks the ...  \n",
       "1  I am debating a new purchase and these two are...  "
      ]
     },
     "execution_count": 2,
     "metadata": {},
     "output_type": "execute_result"
    }
   ],
   "source": [
    "df.head(2)"
   ]
  },
  {
   "cell_type": "markdown",
   "metadata": {},
   "source": [
    "1. Find top 5 attributes"
   ]
  },
  {
   "cell_type": "code",
   "execution_count": 28,
   "metadata": {},
   "outputs": [],
   "source": [
    "attributes = { \n",
    "    \n",
    "    'performance': ['pick-up', 'accelaration', 'drive', 'engine', 'sport', 'driving', 'performance', 'power', 'speed', \n",
    "                     'fast', 'faster', 'sporty', 'horsepower', 'powerful'],\n",
    "    \n",
    "    'consumption': ['consumption','mile', 'mileage', 'oil', 'diesel', 'mpg', 'gas', 'fuel', 'leak'],\n",
    "    \n",
    "    'look': ['look', 'appearance', 'looking', 'design', 'style', 'attractive', 'designed', 'looked'],\n",
    "    \n",
    "    'luxury': [ 'luxury', 'premium','luxurious'],\n",
    "    \n",
    "    'reliability': ['issue', 'recall', 'trouble', 'concerned', 'suspension', 'reliable',\n",
    "                   'service', 'warranty', 'durability', 'durance','quality', 'durable'],\n",
    "    \n",
    "    'price': ['value', 'cost', 'money', 'msrp', 'price', 'sale', 'offer', 'discount', 'bargain', 'grand', 'expensive',\n",
    "             'cheap', 'cheaper', 'incentive', 'worth'],\n",
    "\n",
    "    'exterior': ['headlights', 'dents', 'scratches', 'paint job', 'door'],\n",
    "\n",
    "    'interior': ['seat', 'interior', 'leather', 'steering', 'inside', 'radio', 'noise', 'quiet', 'air conditioner',\n",
    "                'heater', 'dashboard', 'cabin'],\n",
    "\n",
    "    'experience': ['experience', 'special', 'interesting', 'impressive', 'surprised', 'amazing', \n",
    "                   'fun', 'happy', 'bad'],\n",
    "    \n",
    "    'safety': ['safety', 'life', 'safe', 'braking', 'seatbelt', 'airbags', 'collision' ]\n",
    "}\n",
    "\n",
    "top5_brand = ['bmw','acura','audi','infiniti','honda']"
   ]
  },
  {
   "cell_type": "code",
   "execution_count": 29,
   "metadata": {},
   "outputs": [],
   "source": [
    "def get_words(line):\n",
    "    \"\"\"\n",
    "    find individual words in comments\n",
    "    \"\"\"\n",
    "    \n",
    "    try:\n",
    "        return set([word.lower() for word in word_tokenize(line)])\n",
    "    except:\n",
    "        pass\n",
    "\n",
    "\n",
    "def get_brands(line):\n",
    "    \"\"\"\n",
    "    find brands being mentioned in comments\n",
    "    \"\"\"\n",
    "    try:\n",
    "        return set([brand for brand in top5_brand if brand in line])\n",
    "    except:\n",
    "        pass\n",
    "\n",
    "\n",
    "\n",
    "def get_attributes(line):\n",
    "    \"\"\"\n",
    "    find attributes being mentioned in comments\n",
    "    \"\"\"\n",
    "    try:\n",
    "        return set([key for word in line for key, item in attributes.items() if word in item])\n",
    "    except:\n",
    "        pass\n",
    "\n",
    "\n",
    "df['words'] = df['comments'].apply(get_words)\n",
    "df['brand'] = df['words'].apply(get_brands)\n",
    "df['attributes'] = df['words'].apply(get_attributes)"
   ]
  },
  {
   "cell_type": "code",
   "execution_count": 30,
   "metadata": {
    "scrolled": false
   },
   "outputs": [
    {
     "data": {
      "text/html": [
       "<div>\n",
       "<style scoped>\n",
       "    .dataframe tbody tr th:only-of-type {\n",
       "        vertical-align: middle;\n",
       "    }\n",
       "\n",
       "    .dataframe tbody tr th {\n",
       "        vertical-align: top;\n",
       "    }\n",
       "\n",
       "    .dataframe thead th {\n",
       "        text-align: right;\n",
       "    }\n",
       "</style>\n",
       "<table border=\"1\" class=\"dataframe\">\n",
       "  <thead>\n",
       "    <tr style=\"text-align: right;\">\n",
       "      <th></th>\n",
       "      <th>Unnamed: 0</th>\n",
       "      <th>username</th>\n",
       "      <th>date</th>\n",
       "      <th>comments</th>\n",
       "      <th>words</th>\n",
       "      <th>brand</th>\n",
       "      <th>attributes</th>\n",
       "    </tr>\n",
       "  </thead>\n",
       "  <tbody>\n",
       "    <tr>\n",
       "      <th>0</th>\n",
       "      <td>0</td>\n",
       "      <td>merc1</td>\n",
       "      <td>March 2002</td>\n",
       "      <td>I personally think that with a few tweaks the ...</td>\n",
       "      <td>{waiting, great, x-type, styling, england, was...</td>\n",
       "      <td>{bmw, acura, audi}</td>\n",
       "      <td>{price, reliability, performance, interior, ex...</td>\n",
       "    </tr>\n",
       "    <tr>\n",
       "      <th>1</th>\n",
       "      <td>1</td>\n",
       "      <td>fredvh</td>\n",
       "      <td>March 2002</td>\n",
       "      <td>I am debating a new purchase and these two are...</td>\n",
       "      <td>{non-type, great, generation, any, from, debat...</td>\n",
       "      <td>{honda, acura}</td>\n",
       "      <td>{reliability, price}</td>\n",
       "    </tr>\n",
       "  </tbody>\n",
       "</table>\n",
       "</div>"
      ],
      "text/plain": [
       "   Unnamed: 0 username        date  \\\n",
       "0           0    merc1  March 2002   \n",
       "1           1   fredvh  March 2002   \n",
       "\n",
       "                                            comments  \\\n",
       "0  I personally think that with a few tweaks the ...   \n",
       "1  I am debating a new purchase and these two are...   \n",
       "\n",
       "                                               words               brand  \\\n",
       "0  {waiting, great, x-type, styling, england, was...  {bmw, acura, audi}   \n",
       "1  {non-type, great, generation, any, from, debat...      {honda, acura}   \n",
       "\n",
       "                                          attributes  \n",
       "0  {price, reliability, performance, interior, ex...  \n",
       "1                               {reliability, price}  "
      ]
     },
     "execution_count": 30,
     "metadata": {},
     "output_type": "execute_result"
    }
   ],
   "source": [
    "df.head(2)"
   ]
  },
  {
   "cell_type": "code",
   "execution_count": 31,
   "metadata": {},
   "outputs": [
    {
     "data": {
      "text/html": [
       "<div>\n",
       "<style scoped>\n",
       "    .dataframe tbody tr th:only-of-type {\n",
       "        vertical-align: middle;\n",
       "    }\n",
       "\n",
       "    .dataframe tbody tr th {\n",
       "        vertical-align: top;\n",
       "    }\n",
       "\n",
       "    .dataframe thead th {\n",
       "        text-align: right;\n",
       "    }\n",
       "</style>\n",
       "<table border=\"1\" class=\"dataframe\">\n",
       "  <thead>\n",
       "    <tr style=\"text-align: right;\">\n",
       "      <th></th>\n",
       "      <th>count</th>\n",
       "    </tr>\n",
       "  </thead>\n",
       "  <tbody>\n",
       "    <tr>\n",
       "      <th>performance</th>\n",
       "      <td>1910</td>\n",
       "    </tr>\n",
       "    <tr>\n",
       "      <th>price</th>\n",
       "      <td>1265</td>\n",
       "    </tr>\n",
       "    <tr>\n",
       "      <th>experience</th>\n",
       "      <td>821</td>\n",
       "    </tr>\n",
       "    <tr>\n",
       "      <th>look</th>\n",
       "      <td>773</td>\n",
       "    </tr>\n",
       "    <tr>\n",
       "      <th>interior</th>\n",
       "      <td>761</td>\n",
       "    </tr>\n",
       "  </tbody>\n",
       "</table>\n",
       "</div>"
      ],
      "text/plain": [
       "             count\n",
       "performance   1910\n",
       "price         1265\n",
       "experience     821\n",
       "look           773\n",
       "interior       761"
      ]
     },
     "execution_count": 31,
     "metadata": {},
     "output_type": "execute_result"
    }
   ],
   "source": [
    "attr_count = {}\n",
    "for i in range(len(df)):\n",
    "    attr = df.loc[i,'attributes']\n",
    "    if attr:\n",
    "        for j in attr:\n",
    "            if j not in attr_count.keys():\n",
    "                attr_count[j] = 1\n",
    "            else:\n",
    "                attr_count[j] += 1\n",
    "            \n",
    "rank_attr = sorted(attr_count.items(),key=lambda x:x[1],reverse=True)[:5]\n",
    "pd.DataFrame.from_dict(dict(rank_attr),orient='index',columns=['count'])"
   ]
  },
  {
   "cell_type": "markdown",
   "metadata": {},
   "source": [
    "The most common attributes are performance, price, experience, look and interior."
   ]
  },
  {
   "cell_type": "markdown",
   "metadata": {},
   "source": [
    "2. Find the most frequently mentioned attributes of a brand"
   ]
  },
  {
   "cell_type": "code",
   "execution_count": 32,
   "metadata": {},
   "outputs": [],
   "source": [
    "top5_brand = ['bmw','acura','audi','infiniti','honda']\n",
    "top5_attributes = list(dict(rank_attr).keys())"
   ]
  },
  {
   "cell_type": "code",
   "execution_count": 33,
   "metadata": {
    "scrolled": true
   },
   "outputs": [
    {
     "data": {
      "text/plain": [
       "{'bmw': {'price': 480,\n",
       "  'performance': 625,\n",
       "  'interior': 261,\n",
       "  'experience': 275,\n",
       "  'look': 257},\n",
       " 'acura': {'price': 152,\n",
       "  'performance': 220,\n",
       "  'interior': 99,\n",
       "  'experience': 103,\n",
       "  'look': 123},\n",
       " 'audi': {'price': 130,\n",
       "  'performance': 190,\n",
       "  'interior': 106,\n",
       "  'experience': 100,\n",
       "  'look': 89},\n",
       " 'infiniti': {'performance': 180,\n",
       "  'experience': 86,\n",
       "  'price': 149,\n",
       "  'interior': 81,\n",
       "  'look': 82},\n",
       " 'honda': {'price': 65,\n",
       "  'look': 48,\n",
       "  'performance': 100,\n",
       "  'experience': 51,\n",
       "  'interior': 33}}"
      ]
     },
     "execution_count": 33,
     "metadata": {},
     "output_type": "execute_result"
    }
   ],
   "source": [
    "count = {}\n",
    "for b in top5_brand:\n",
    "    count[b] = {}\n",
    "\n",
    "for i in range(len(df)):\n",
    "    brand = df.loc[i,'brand']\n",
    "    attributes = df.loc[i,'attributes']\n",
    "    if brand:\n",
    "        for b in brand:\n",
    "            for a in attributes:\n",
    "                if b in top5_brand and a in top5_attributes:\n",
    "                    if a not in count[b].keys():\n",
    "                        count[b][a] = 1\n",
    "                    else:\n",
    "                        count[b][a] += 1\n",
    "\n",
    "count"
   ]
  },
  {
   "cell_type": "code",
   "execution_count": 34,
   "metadata": {
    "scrolled": true
   },
   "outputs": [
    {
     "name": "stdout",
     "output_type": "stream",
     "text": [
      "bmw ('performance', 625)\n",
      "acura ('performance', 220)\n",
      "audi ('performance', 190)\n",
      "infiniti ('performance', 180)\n",
      "honda ('performance', 100)\n"
     ]
    }
   ],
   "source": [
    "# most frequently mentioned attributes of each brand\n",
    "for i in count.keys():\n",
    "    rank = sorted(count[i].items(),key=lambda x:x[1],reverse=True)\n",
    "    print(i,rank[0])"
   ]
  },
  {
   "cell_type": "code",
   "execution_count": 35,
   "metadata": {},
   "outputs": [],
   "source": [
    "# calculate LIFT score\n",
    "\n",
    "rank_brand = [('bmw', 1401),\n",
    " ('acura', 529),\n",
    " ('audi', 439),\n",
    " ('infiniti', 415),\n",
    " ('honda', 403)]\n",
    "\n",
    "rank_brand_dic = dict(rank_brand)\n",
    "rank_attr_dic = dict(rank_attr)\n",
    "\n",
    "n = len(df)\n",
    "\n",
    "LIFT = {}\n",
    "\n",
    "for brand in rank_brand_dic.keys():\n",
    "    LIFT[brand] = {}\n",
    "    for attr in rank_attr_dic.keys():\n",
    "        if attr not in LIFT[brand].keys():\n",
    "            LIFT[brand][attr] = n * count[brand][attr] / (rank_brand_dic[brand] * rank_attr_dic[attr])"
   ]
  },
  {
   "cell_type": "code",
   "execution_count": 36,
   "metadata": {
    "scrolled": true
   },
   "outputs": [
    {
     "name": "stdout",
     "output_type": "stream",
     "text": [
      "bmw ('price', 1.354199287352625)\n",
      "acura ('look', 1.5039726888341645)\n",
      "audi ('interior', 1.586451108869459)\n",
      "infiniti ('price', 1.4191151959617125)\n",
      "honda ('experience', 0.7707117447402702)\n"
     ]
    }
   ],
   "source": [
    "for i in LIFT.keys():\n",
    "    rank = sorted(LIFT[i].items(),key=lambda x:x[1],reverse=True)\n",
    "    print(i,rank[0])"
   ]
  },
  {
   "cell_type": "code",
   "execution_count": 39,
   "metadata": {
    "scrolled": true
   },
   "outputs": [
    {
     "data": {
      "text/html": [
       "<div>\n",
       "<style scoped>\n",
       "    .dataframe tbody tr th:only-of-type {\n",
       "        vertical-align: middle;\n",
       "    }\n",
       "\n",
       "    .dataframe tbody tr th {\n",
       "        vertical-align: top;\n",
       "    }\n",
       "\n",
       "    .dataframe thead th {\n",
       "        text-align: right;\n",
       "    }\n",
       "</style>\n",
       "<table border=\"1\" class=\"dataframe\">\n",
       "  <thead>\n",
       "    <tr style=\"text-align: right;\">\n",
       "      <th></th>\n",
       "      <th>performance</th>\n",
       "      <th>price</th>\n",
       "      <th>experience</th>\n",
       "      <th>look</th>\n",
       "      <th>interior</th>\n",
       "    </tr>\n",
       "  </thead>\n",
       "  <tbody>\n",
       "    <tr>\n",
       "      <th>bmw</th>\n",
       "      <td>1.16783</td>\n",
       "      <td>1.3542</td>\n",
       "      <td>1.19542</td>\n",
       "      <td>1.18655</td>\n",
       "      <td>1.22402</td>\n",
       "    </tr>\n",
       "    <tr>\n",
       "      <th>acura</th>\n",
       "      <td>1.08869</td>\n",
       "      <td>1.13571</td>\n",
       "      <td>1.18579</td>\n",
       "      <td>1.50397</td>\n",
       "      <td>1.2296</td>\n",
       "    </tr>\n",
       "    <tr>\n",
       "      <th>audi</th>\n",
       "      <td>1.13299</td>\n",
       "      <td>1.17046</td>\n",
       "      <td>1.38727</td>\n",
       "      <td>1.31134</td>\n",
       "      <td>1.58645</td>\n",
       "    </tr>\n",
       "    <tr>\n",
       "      <th>infiniti</th>\n",
       "      <td>1.13543</td>\n",
       "      <td>1.41912</td>\n",
       "      <td>1.26205</td>\n",
       "      <td>1.27807</td>\n",
       "      <td>1.2824</td>\n",
       "    </tr>\n",
       "    <tr>\n",
       "      <th>honda</th>\n",
       "      <td>0.649578</td>\n",
       "      <td>0.637511</td>\n",
       "      <td>0.770712</td>\n",
       "      <td>0.770418</td>\n",
       "      <td>0.538015</td>\n",
       "    </tr>\n",
       "  </tbody>\n",
       "</table>\n",
       "</div>"
      ],
      "text/plain": [
       "         performance     price experience      look  interior\n",
       "bmw          1.16783    1.3542    1.19542   1.18655   1.22402\n",
       "acura        1.08869   1.13571    1.18579   1.50397    1.2296\n",
       "audi         1.13299   1.17046    1.38727   1.31134   1.58645\n",
       "infiniti     1.13543   1.41912    1.26205   1.27807    1.2824\n",
       "honda       0.649578  0.637511   0.770712  0.770418  0.538015"
      ]
     },
     "execution_count": 39,
     "metadata": {},
     "output_type": "execute_result"
    }
   ],
   "source": [
    "lift_table = pd.DataFrame(columns=list(rank_attr_dic),index=top5_brand)\n",
    "for brand in LIFT.keys():\n",
    "    for attr in LIFT[brand].keys():\n",
    "        lift_table.loc[brand,attr] = LIFT[brand][attr]\n",
    "        \n",
    "lift_table"
   ]
  },
  {
   "cell_type": "markdown",
   "metadata": {},
   "source": [
    "**Task D: What advice will you give to a (i) product manager, and (ii) marketing/advertising manager of these brands based on your analysis in Task C?** "
   ]
  },
  {
   "cell_type": "markdown",
   "metadata": {},
   "source": [
    "(i) Performance is the most frequently mentioned attribute for all the top 5 brands, so it is recommended that all product managers pay close attention to the design of engines and raise their performance. If we take the lift scores into consideration, BMW and infiniti are the most strongly associated with price. Assuming a positive sentiment, we suggest product managers continue working on reducing the costs while maintaining the high performance of cars. Acura is most strongly associated with looks, so designing stylish and good-looking luxury cars for the brand is recommended. Audi is most strongly associated with interiors, while Honda is most strongly associated with experience. Product managers should focus a greater proportion of their efforts on these specific attributes.\n",
    "\n",
    "\n",
    "(ii) Recommended marketing focuses:\n",
    "   - BMW and Infiniti - good value for money\n",
    "   - Acura - stylish luxury cars\n",
    "   - Audi - luxurious interior design\n",
    "   - Honda - best driving experience"
   ]
  },
  {
   "cell_type": "markdown",
   "metadata": {},
   "source": [
    "**Task E: Which is the most aspirational brand in your data in terms of people actually wanting to buy or own? Describe your analysis. What are the business implications for this brand?**"
   ]
  },
  {
   "cell_type": "code",
   "execution_count": 2,
   "metadata": {},
   "outputs": [],
   "source": [
    "import pandas as pd"
   ]
  },
  {
   "cell_type": "code",
   "execution_count": 3,
   "metadata": {},
   "outputs": [],
   "source": [
    "comments_df = pd.read_csv('comments.csv')"
   ]
  },
  {
   "cell_type": "code",
   "execution_count": 4,
   "metadata": {},
   "outputs": [
    {
     "name": "stdout",
     "output_type": "stream",
     "text": [
      "['admiration', 'admire', 'ambition', 'ambitious', 'ardor', 'aspiration', 'aspire', 'beautiful', 'beauty', 'believe', 'best', 'bliss', 'blissful', 'breathtaking', 'catalyst', 'conquer', 'dare', 'daring', 'dedicate', 'desire', 'desiring', 'divine', 'dream', 'dream', 'eager', 'electrifying', 'empower', 'empowering', 'energized', 'envision', 'excellence', 'excellent', 'glory', 'happiness', 'happy', 'harmonious', 'harmony', 'holy', 'holy grail', 'honor', 'hope', 'ideal', 'imagination', 'imagine', 'initiative', 'innovation', 'inspire', 'inspiring', 'limitless', 'luxurious', 'nirvana', 'passion', 'passionate', 'purpose', 'relentless', 'spirit', 'spirited', 'strength', 'strong', 'trust', 'wish', 'worthy']\n"
     ]
    }
   ],
   "source": [
    "aspirational = pd.read_csv('aspirational_words.csv')\n",
    "asp_list = []\n",
    "for x in aspirational['words']:\n",
    "    asp_list.append(x)\n",
    "print(asp_list)"
   ]
  },
  {
   "cell_type": "code",
   "execution_count": 5,
   "metadata": {},
   "outputs": [],
   "source": [
    "import string\n",
    "import nltk\n",
    "comments_df['comments']=comments_df['comments'].astype(str)\n",
    "comments_df = comments_df.dropna()\n",
    "comments_df['comments'] = comments_df['comments'].apply(lambda x :x.translate(str.maketrans('', '', string.punctuation)))\n",
    "comments_df['comments'] = comments_df['comments'].apply(lambda x :x.lower())"
   ]
  },
  {
   "cell_type": "code",
   "execution_count": 6,
   "metadata": {},
   "outputs": [],
   "source": [
    "models = pd.read_csv(\"models.csv\", header = None, names = ['brand','model'], encoding='windows-1252')"
   ]
  },
  {
   "cell_type": "code",
   "execution_count": 7,
   "metadata": {},
   "outputs": [],
   "source": [
    "def model_to_brand(s):\n",
    "    for i in models.index.values:\n",
    "        s = s.replace(models[\"model\"][i].lower(),models[\"brand\"][i].lower())\n",
    "    return s\n",
    "comments_df['comments_model_replace'] = comments_df['comments'].apply(model_to_brand)"
   ]
  },
  {
   "cell_type": "code",
   "execution_count": 8,
   "metadata": {},
   "outputs": [],
   "source": [
    "def asp_words(x):\n",
    "    for i in asp_list:\n",
    "        x = x.replace(i,'aspirational')\n",
    "    return x\n",
    "comments_df['aspirational_words'] = comments_df['comments_model_replace'].apply(asp_words)"
   ]
  },
  {
   "cell_type": "code",
   "execution_count": 9,
   "metadata": {},
   "outputs": [],
   "source": [
    "lift_df = pd.DataFrame(columns = ['brand', 'brandcount', 'asp_count', 'lift', 'percent_aspirational'])\n",
    "lift_df['brand'] = models['brand'].unique()"
   ]
  },
  {
   "cell_type": "code",
   "execution_count": 10,
   "metadata": {},
   "outputs": [],
   "source": [
    "overall_asp_count = 0\n",
    "for comment in comments_df['aspirational_words']:\n",
    "    if 'aspirational' in comment:\n",
    "        overall_asp_count += 1\n",
    "n = len(comments_df)"
   ]
  },
  {
   "cell_type": "code",
   "execution_count": 11,
   "metadata": {},
   "outputs": [
    {
     "data": {
      "text/html": [
       "<div>\n",
       "<style scoped>\n",
       "    .dataframe tbody tr th:only-of-type {\n",
       "        vertical-align: middle;\n",
       "    }\n",
       "\n",
       "    .dataframe tbody tr th {\n",
       "        vertical-align: top;\n",
       "    }\n",
       "\n",
       "    .dataframe thead th {\n",
       "        text-align: right;\n",
       "    }\n",
       "</style>\n",
       "<table border=\"1\" class=\"dataframe\">\n",
       "  <thead>\n",
       "    <tr style=\"text-align: right;\">\n",
       "      <th></th>\n",
       "      <th>brand</th>\n",
       "      <th>brandcount</th>\n",
       "      <th>asp_count</th>\n",
       "      <th>lift</th>\n",
       "      <th>percent_aspirational</th>\n",
       "    </tr>\n",
       "  </thead>\n",
       "  <tbody>\n",
       "    <tr>\n",
       "      <th>0</th>\n",
       "      <td>acura</td>\n",
       "      <td>584</td>\n",
       "      <td>206</td>\n",
       "      <td>1.32029</td>\n",
       "      <td>0.35274</td>\n",
       "    </tr>\n",
       "    <tr>\n",
       "      <th>1</th>\n",
       "      <td>audi</td>\n",
       "      <td>532</td>\n",
       "      <td>214</td>\n",
       "      <td>1.50563</td>\n",
       "      <td>0.402256</td>\n",
       "    </tr>\n",
       "    <tr>\n",
       "      <th>2</th>\n",
       "      <td>bmw</td>\n",
       "      <td>1461</td>\n",
       "      <td>513</td>\n",
       "      <td>1.31427</td>\n",
       "      <td>0.351129</td>\n",
       "    </tr>\n",
       "    <tr>\n",
       "      <th>3</th>\n",
       "      <td>buick</td>\n",
       "      <td>97</td>\n",
       "      <td>35</td>\n",
       "      <td>1.35056</td>\n",
       "      <td>0.360825</td>\n",
       "    </tr>\n",
       "    <tr>\n",
       "      <th>4</th>\n",
       "      <td>cadillac</td>\n",
       "      <td>146</td>\n",
       "      <td>56</td>\n",
       "      <td>1.43566</td>\n",
       "      <td>0.383562</td>\n",
       "    </tr>\n",
       "    <tr>\n",
       "      <th>5</th>\n",
       "      <td>chevrolet</td>\n",
       "      <td>146</td>\n",
       "      <td>60</td>\n",
       "      <td>1.53821</td>\n",
       "      <td>0.410959</td>\n",
       "    </tr>\n",
       "    <tr>\n",
       "      <th>6</th>\n",
       "      <td>chrysler</td>\n",
       "      <td>64</td>\n",
       "      <td>34</td>\n",
       "      <td>1.98845</td>\n",
       "      <td>0.53125</td>\n",
       "    </tr>\n",
       "    <tr>\n",
       "      <th>7</th>\n",
       "      <td>dodge</td>\n",
       "      <td>213</td>\n",
       "      <td>94</td>\n",
       "      <td>1.65183</td>\n",
       "      <td>0.441315</td>\n",
       "    </tr>\n",
       "    <tr>\n",
       "      <th>8</th>\n",
       "      <td>ford</td>\n",
       "      <td>262</td>\n",
       "      <td>101</td>\n",
       "      <td>1.4429</td>\n",
       "      <td>0.385496</td>\n",
       "    </tr>\n",
       "    <tr>\n",
       "      <th>9</th>\n",
       "      <td>honda</td>\n",
       "      <td>560</td>\n",
       "      <td>214</td>\n",
       "      <td>1.43035</td>\n",
       "      <td>0.382143</td>\n",
       "    </tr>\n",
       "    <tr>\n",
       "      <th>10</th>\n",
       "      <td>hyundai</td>\n",
       "      <td>137</td>\n",
       "      <td>44</td>\n",
       "      <td>1.20212</td>\n",
       "      <td>0.321168</td>\n",
       "    </tr>\n",
       "    <tr>\n",
       "      <th>11</th>\n",
       "      <td>infiniti</td>\n",
       "      <td>457</td>\n",
       "      <td>173</td>\n",
       "      <td>1.41692</td>\n",
       "      <td>0.378556</td>\n",
       "    </tr>\n",
       "    <tr>\n",
       "      <th>12</th>\n",
       "      <td>kia</td>\n",
       "      <td>23</td>\n",
       "      <td>9</td>\n",
       "      <td>1.46464</td>\n",
       "      <td>0.391304</td>\n",
       "    </tr>\n",
       "    <tr>\n",
       "      <th>13</th>\n",
       "      <td>lincoln</td>\n",
       "      <td>103</td>\n",
       "      <td>40</td>\n",
       "      <td>1.45358</td>\n",
       "      <td>0.38835</td>\n",
       "    </tr>\n",
       "    <tr>\n",
       "      <th>14</th>\n",
       "      <td>mazda</td>\n",
       "      <td>136</td>\n",
       "      <td>51</td>\n",
       "      <td>1.40361</td>\n",
       "      <td>0.375</td>\n",
       "    </tr>\n",
       "    <tr>\n",
       "      <th>15</th>\n",
       "      <td>mercedes</td>\n",
       "      <td>172</td>\n",
       "      <td>76</td>\n",
       "      <td>1.65387</td>\n",
       "      <td>0.44186</td>\n",
       "    </tr>\n",
       "    <tr>\n",
       "      <th>16</th>\n",
       "      <td>mercury</td>\n",
       "      <td>4</td>\n",
       "      <td>2</td>\n",
       "      <td>1.87149</td>\n",
       "      <td>0.5</td>\n",
       "    </tr>\n",
       "    <tr>\n",
       "      <th>17</th>\n",
       "      <td>mitsubishi</td>\n",
       "      <td>19</td>\n",
       "      <td>9</td>\n",
       "      <td>1.77299</td>\n",
       "      <td>0.473684</td>\n",
       "    </tr>\n",
       "    <tr>\n",
       "      <th>18</th>\n",
       "      <td>nissan</td>\n",
       "      <td>263</td>\n",
       "      <td>95</td>\n",
       "      <td>1.35202</td>\n",
       "      <td>0.361217</td>\n",
       "    </tr>\n",
       "    <tr>\n",
       "      <th>19</th>\n",
       "      <td>pontiac</td>\n",
       "      <td>676</td>\n",
       "      <td>235</td>\n",
       "      <td>1.30118</td>\n",
       "      <td>0.347633</td>\n",
       "    </tr>\n",
       "    <tr>\n",
       "      <th>20</th>\n",
       "      <td>saturn</td>\n",
       "      <td>37</td>\n",
       "      <td>14</td>\n",
       "      <td>1.41626</td>\n",
       "      <td>0.378378</td>\n",
       "    </tr>\n",
       "    <tr>\n",
       "      <th>21</th>\n",
       "      <td>subaru</td>\n",
       "      <td>190</td>\n",
       "      <td>72</td>\n",
       "      <td>1.41839</td>\n",
       "      <td>0.378947</td>\n",
       "    </tr>\n",
       "    <tr>\n",
       "      <th>22</th>\n",
       "      <td>suzuki</td>\n",
       "      <td>18</td>\n",
       "      <td>6</td>\n",
       "      <td>1.24766</td>\n",
       "      <td>0.333333</td>\n",
       "    </tr>\n",
       "    <tr>\n",
       "      <th>23</th>\n",
       "      <td>toyata</td>\n",
       "      <td>1224</td>\n",
       "      <td>493</td>\n",
       "      <td>1.50759</td>\n",
       "      <td>0.402778</td>\n",
       "    </tr>\n",
       "    <tr>\n",
       "      <th>24</th>\n",
       "      <td>volkswagen</td>\n",
       "      <td>177</td>\n",
       "      <td>69</td>\n",
       "      <td>1.45912</td>\n",
       "      <td>0.389831</td>\n",
       "    </tr>\n",
       "    <tr>\n",
       "      <th>25</th>\n",
       "      <td>volvo</td>\n",
       "      <td>198</td>\n",
       "      <td>71</td>\n",
       "      <td>1.34218</td>\n",
       "      <td>0.358586</td>\n",
       "    </tr>\n",
       "  </tbody>\n",
       "</table>\n",
       "</div>"
      ],
      "text/plain": [
       "         brand brandcount asp_count     lift percent_aspirational\n",
       "0        acura        584       206  1.32029              0.35274\n",
       "1         audi        532       214  1.50563             0.402256\n",
       "2          bmw       1461       513  1.31427             0.351129\n",
       "3        buick         97        35  1.35056             0.360825\n",
       "4     cadillac        146        56  1.43566             0.383562\n",
       "5    chevrolet        146        60  1.53821             0.410959\n",
       "6     chrysler         64        34  1.98845              0.53125\n",
       "7        dodge        213        94  1.65183             0.441315\n",
       "8         ford        262       101   1.4429             0.385496\n",
       "9        honda        560       214  1.43035             0.382143\n",
       "10     hyundai        137        44  1.20212             0.321168\n",
       "11    infiniti        457       173  1.41692             0.378556\n",
       "12         kia         23         9  1.46464             0.391304\n",
       "13     lincoln        103        40  1.45358              0.38835\n",
       "14       mazda        136        51  1.40361                0.375\n",
       "15    mercedes        172        76  1.65387              0.44186\n",
       "16     mercury          4         2  1.87149                  0.5\n",
       "17  mitsubishi         19         9  1.77299             0.473684\n",
       "18      nissan        263        95  1.35202             0.361217\n",
       "19     pontiac        676       235  1.30118             0.347633\n",
       "20      saturn         37        14  1.41626             0.378378\n",
       "21      subaru        190        72  1.41839             0.378947\n",
       "22      suzuki         18         6  1.24766             0.333333\n",
       "23      toyata       1224       493  1.50759             0.402778\n",
       "24  volkswagen        177        69  1.45912             0.389831\n",
       "25       volvo        198        71  1.34218             0.358586"
      ]
     },
     "execution_count": 11,
     "metadata": {},
     "output_type": "execute_result"
    }
   ],
   "source": [
    "index = 0\n",
    "for brand in lift_df['brand']:\n",
    "    brandcount = 0\n",
    "    asp_count = 0\n",
    "    for comment in comments_df['aspirational_words']:\n",
    "        if brand in comment:\n",
    "            brandcount += 1\n",
    "        if 'aspirational' in comment and brand in comment:\n",
    "            asp_count += 1\n",
    "        \n",
    "    lift_df['brandcount'][index] = brandcount\n",
    "    lift_df['asp_count'][index] = asp_count\n",
    "    index += 1\n",
    "lift_df['percent_aspirational'] = lift_df['asp_count']/lift_df['brandcount']\n",
    "lift_df['lift'] = (n*lift_df['asp_count'])/(lift_df['brandcount']*overall_asp_count)\n",
    "lift_df"
   ]
  },
  {
   "cell_type": "markdown",
   "metadata": {},
   "source": [
    "To assess which brands were the most 'aspirational', we decided to create a list of aspirational words (dream, beaity, desire, etc.) and replace those words with the word 'aspirational', similarly to what we did with the brands and models. From there, we did a count of how many times the brand appears in post, and then how many times the word 'aspirational' appears with that brand. From there, we calculated lifts, which can be found in the table above. The brand with the highest lift ended up being Chrysler, which we thought was interesting. We think that Chrysler could capitalize on this from a marketing perspective- Chrysler, though it is not associated with typical luxury brands like Mercedes or BMW, has a higher representation of people that aspire to own a Chrysler. Chrysler can create marketing campaigns that capitalize on this, and thus generate even further interest in the brand."
   ]
  }
 ],
 "metadata": {
  "kernelspec": {
   "display_name": "Python 3",
   "language": "python",
   "name": "python3"
  },
  "language_info": {
   "codemirror_mode": {
    "name": "ipython",
    "version": 3
   },
   "file_extension": ".py",
   "mimetype": "text/x-python",
   "name": "python",
   "nbconvert_exporter": "python",
   "pygments_lexer": "ipython3",
   "version": "3.7.4"
  }
 },
 "nbformat": 4,
 "nbformat_minor": 2
}
